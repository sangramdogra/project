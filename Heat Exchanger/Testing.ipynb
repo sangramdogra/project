{
 "cells": [
  {
   "cell_type": "code",
   "execution_count": 1,
   "metadata": {},
   "outputs": [],
   "source": [
    "import pandas as pd\n",
    "import numpy as np\n",
    "from sklearn.model_selection import RandomizedSearchCV, GridSearchCV\n",
    "from sklearn.preprocessing import StandardScaler\n",
    "import seaborn as sns\n",
    "import os\n",
    "import pickle\n",
    "from sklearn.linear_model import LinearRegression, ElasticNet\n",
    "from sklearn.metrics import mean_squared_error\n",
    "from sklearn.utils.fixes import loguniform"
   ]
  },
  {
   "cell_type": "code",
   "execution_count": 2,
   "metadata": {},
   "outputs": [
    {
     "name": "stdout",
     "output_type": "stream",
     "text": [
      "shape (59265, 14)\n",
      "shape (59265, 1)\n"
     ]
    }
   ],
   "source": [
    "df = np.load('train_x_scaled.npy')\n",
    "print('shape', df.shape)\n",
    "y = np.load('train_y_scaled.npy')\n",
    "print('shape', y.shape)"
   ]
  },
  {
   "cell_type": "code",
   "execution_count": 3,
   "metadata": {},
   "outputs": [
    {
     "name": "stdout",
     "output_type": "stream",
     "text": [
      "MSE 0.9999999999999999\n"
     ]
    }
   ],
   "source": [
    "# Simple mean model\n",
    "mean = np.mean(y) #mean output of y\n",
    "y_pred = np.ones((59265, 1))* mean\n",
    "print('MSE', mean_squared_error(y, y_pred)) #mean square error for simple mean model"
   ]
  },
  {
   "cell_type": "code",
   "execution_count": 4,
   "metadata": {},
   "outputs": [
    {
     "name": "stdout",
     "output_type": "stream",
     "text": [
      "Fitting 5 folds for each of 10 candidates, totalling 50 fits\n"
     ]
    },
    {
     "name": "stderr",
     "output_type": "stream",
     "text": [
      "[Parallel(n_jobs=-1)]: Using backend LokyBackend with 4 concurrent workers.\n",
      "[Parallel(n_jobs=-1)]: Done  42 tasks      | elapsed:   11.8s\n",
      "[Parallel(n_jobs=-1)]: Done  50 out of  50 | elapsed:   13.8s finished\n",
      "c:\\users\\sangram\\appdata\\local\\programs\\python\\python37\\lib\\site-packages\\sklearn\\linear_model\\_coordinate_descent.py:476: ConvergenceWarning: Objective did not converge. You might want to increase the number of iterations. Duality gap: 22251.763882339423, tolerance: 5.9265\n",
      "  positive)\n"
     ]
    },
    {
     "data": {
      "text/plain": [
       "{'l1_ratio': 0.0}"
      ]
     },
     "execution_count": 4,
     "metadata": {},
     "output_type": "execute_result"
    }
   ],
   "source": [
    "# Linear regression using L1 and L2 regularizer\n",
    "params = {'l1_ratio': np.linspace(0,1, 10)}\n",
    "clf = RandomizedSearchCV(ElasticNet(), param_distributions = params, n_iter=10, scoring='neg_mean_absolute_error', n_jobs=-1, refit=True, cv=None, verbose=1, random_state= 100, return_train_score=True)\n",
    "clf.fit(df, y)\n",
    "clf.best_params_"
   ]
  },
  {
   "cell_type": "code",
   "execution_count": 5,
   "metadata": {},
   "outputs": [
    {
     "name": "stdout",
     "output_type": "stream",
     "text": [
      "MSE 0.6727553982458904\n"
     ]
    }
   ],
   "source": [
    "y_pred = clf.predict(df)\n",
    "print('MSE', mean_squared_error(y, y_pred))\n",
    "#Mean Square error is reduced from 0.99 to 0.672  is a big achievement"
   ]
  },
  {
   "cell_type": "code",
   "execution_count": 11,
   "metadata": {},
   "outputs": [],
   "source": [
    "if not os.path.exists('model.pkl'):\n",
    "    with open('model.pkl', 'wb') as f:\n",
    "        pickle.dump(clf, f)"
   ]
  },
  {
   "cell_type": "code",
   "execution_count": 19,
   "metadata": {},
   "outputs": [
    {
     "name": "stderr",
     "output_type": "stream",
     "text": [
      "UsageError: Line magic function `%%writefile` not found.\n"
     ]
    }
   ],
   "source": [
    "## modelling\n",
    "%%writefile 'final_model.py'\n",
    "\n",
    "def output(*args):\n",
    "    arr = np.asarray([*args])\n",
    "    output = model.predict(arr)\n",
    "    return invss.inverse_transform(output)\n",
    "output([i for i in range(14)])"
   ]
  },
  {
   "cell_type": "code",
   "execution_count": 16,
   "metadata": {},
   "outputs": [
    {
     "data": {
      "text/plain": [
       "[1, 2, 3]"
      ]
     },
     "execution_count": 16,
     "metadata": {},
     "output_type": "execute_result"
    }
   ],
   "source": [
    "def output(*args):\n",
    "    i = [*args]\n",
    "    return i\n",
    "output(1,2,3)"
   ]
  },
  {
   "cell_type": "code",
   "execution_count": null,
   "metadata": {},
   "outputs": [],
   "source": [
    "import pickle\n",
    "import numpy as np\n",
    "model = pickle.load(open('model.pkl', 'rb'))\n",
    "invss = pickle.load(open('s_scaler_train_y.pkl', 'rb'))\n"
   ]
  }
 ],
 "metadata": {
  "kernelspec": {
   "display_name": "Python 3",
   "language": "python",
   "name": "python3"
  },
  "language_info": {
   "codemirror_mode": {
    "name": "ipython",
    "version": 3
   },
   "file_extension": ".py",
   "mimetype": "text/x-python",
   "name": "python",
   "nbconvert_exporter": "python",
   "pygments_lexer": "ipython3",
   "version": "3.7.6"
  }
 },
 "nbformat": 4,
 "nbformat_minor": 4
}
