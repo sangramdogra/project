{
 "cells": [
  {
   "cell_type": "code",
   "execution_count": null,
   "metadata": {},
   "outputs": [],
   "source": [
    "import pickle\n",
    "import pandas as pd\n",
    "import numpy as np\n",
    "def final(x):\n",
    "    # Loading model\n",
    "    with open('ridge.pkl', 'rb') as file:\n",
    "        model = pickle.load(file)\n",
    "    # Assuming the input is some charging data of a battery in format of [[Voltage], [Current], [Temperature]]\n",
    "    padding = 3900 #kept in training\n",
    "    for i in range(3):\n",
    "        'Remove_nan values'\n",
    "        x[i] = nan_pop(x[i])\n",
    "        x[i] = padding(x[i])\n",
    "        x[i] = avg_sampling(x[i])\n",
    "        \n",
    "    \n",
    "    "
   ]
  }
 ],
 "metadata": {
  "kernelspec": {
   "display_name": "Python 3",
   "language": "python",
   "name": "python3"
  },
  "language_info": {
   "codemirror_mode": {
    "name": "ipython",
    "version": 3
   },
   "file_extension": ".py",
   "mimetype": "text/x-python",
   "name": "python",
   "nbconvert_exporter": "python",
   "pygments_lexer": "ipython3",
   "version": "3.7.6"
  }
 },
 "nbformat": 4,
 "nbformat_minor": 4
}
